{
  "nbformat": 4,
  "nbformat_minor": 0,
  "metadata": {
    "colab": {
      "name": "ML_FORUM_GMM.ipynb",
      "provenance": [],
      "authorship_tag": "ABX9TyMnaIrmOjE4LG1SLM4wyMOA"
    },
    "kernelspec": {
      "name": "python3",
      "display_name": "Python 3"
    },
    "language_info": {
      "name": "python"
    }
  },
  "cells": [
    {
      "cell_type": "code",
      "source": [
        "import numpy as np\n",
        "from scipy.stats import multivariate_normal"
      ],
      "metadata": {
        "id": "G4ociwYBR8cl"
      },
      "execution_count": 6,
      "outputs": []
    },
    {
      "cell_type": "code",
      "source": [
        "def e_step(X, means, covariance, density):\n",
        "  likelihood = np.zeros((10, 2))\n",
        "  resp = np.zeros((10, 2))\n",
        "\n",
        "  for i in range(2):\n",
        "    likelihood[:, i] = multivariate_normal.pdf(X, means[i], covariance[i], allow_singular=True)\n",
        "    resp[:, i] = density[i] * likelihood[:, i]\n",
        "  \n",
        "  log_likelihood = np.sum(np.log(np.sum(resp, axis=1)))\n",
        "  resp = resp / resp.sum(axis=1, keepdims=1)\n",
        "\n",
        "  return resp, log_likelihood"
      ],
      "metadata": {
        "id": "BHMGhBIhWIo3"
      },
      "execution_count": 16,
      "outputs": []
    },
    {
      "cell_type": "code",
      "source": [
        "def m_step(X, means, covariance, resp):\n",
        "  for i in range(2):\n",
        "    weight = resp[:, [i]]\n",
        "    total_weight = weight.sum()\n",
        "    means[i] = (X * weight).sum(axis=0) / total_weight\n",
        "    covariance[i] = np.cov(X.T, aweights=((weight/total_weight).flatten()), bias=True)\n",
        "  density = resp.mean(axis=0)\n",
        "  return means, covariance, density"
      ],
      "metadata": {
        "id": "xANgBhNfXnC6"
      },
      "execution_count": 28,
      "outputs": []
    },
    {
      "cell_type": "code",
      "source": [
        "X = [\n",
        "     [3, 8],\n",
        "     [3, 6],\n",
        "     [3, 4],\n",
        "     [4, 7],\n",
        "     [4, 5],\n",
        "     [5, 5],\n",
        "     [5, 1],\n",
        "     [7, 4],\n",
        "     [7, 3],\n",
        "     [8, 5]\n",
        "]\n",
        "X = np.array(X)"
      ],
      "metadata": {
        "id": "FR0eqPblWsY7"
      },
      "execution_count": 30,
      "outputs": []
    },
    {
      "cell_type": "code",
      "execution_count": 31,
      "metadata": {
        "colab": {
          "base_uri": "https://localhost:8080/"
        },
        "id": "LVizvqfWP2uN",
        "outputId": "7b0680c5-3bed-41ce-8b67-7768e24f6c38"
      },
      "outputs": [
        {
          "output_type": "stream",
          "name": "stdout",
          "text": [
            "ITERATION [1]\n",
            "\n",
            "Log Likelihood:\n",
            "-124.54277717502774\n",
            "\n",
            "Responsibility:\n",
            "[[1.00000000e+000 1.03503365e-044]\n",
            " [1.00000000e+000 2.50761390e-040]\n",
            " [1.00000000e+000 1.58236815e-024]\n",
            " [1.00000000e+000 4.90028689e-038]\n",
            " [1.00000000e+000 5.29398675e-020]\n",
            " [4.58809987e-001 5.41190013e-001]\n",
            " [5.38479005e-087 1.00000000e+000]\n",
            " [3.41390270e-081 1.00000000e+000]\n",
            " [2.94818908e-109 1.00000000e+000]\n",
            " [8.04775102e-092 1.00000000e+000]]\n",
            "\n",
            "Updated Means:\n",
            "[[3.53447912 5.91595055]\n",
            " [6.54144618 3.45855382]]\n",
            "\n",
            "Updated Covariances:\n",
            "[[[ 0.41691009 -0.12317623]\n",
            "  [-0.12317623  1.90888624]]\n",
            "\n",
            " [[ 1.36745583  1.05481674]\n",
            "  [ 1.05481674  2.24828221]]]\n",
            "-------------------------------------------------\n",
            "ITERATION [2]\n",
            "\n",
            "Log Likelihood:\n",
            "-35.113967094485204\n",
            "\n",
            "Responsibility:\n",
            "[[1.00000000e+00 1.99721783e-10]\n",
            " [9.99999533e-01 4.66568390e-07]\n",
            " [9.99432453e-01 5.67546958e-04]\n",
            " [9.99997497e-01 2.50313933e-06]\n",
            " [9.98950777e-01 1.04922315e-03]\n",
            " [8.13648094e-01 1.86351906e-01]\n",
            " [2.82370098e-03 9.97176299e-01]\n",
            " [9.35734171e-07 9.99999064e-01]\n",
            " [5.53117998e-07 9.99999447e-01]\n",
            " [1.73390310e-10 1.00000000e+00]]\n",
            "\n",
            "Updated Means:\n",
            "[[3.62458973 5.85802079]\n",
            " [6.6720584  3.32998312]]\n",
            "\n",
            "Updated Covariances:\n",
            "[[[ 0.51530329 -0.1958513 ]\n",
            "  [-0.1958513   1.85107174]]\n",
            "\n",
            " [[ 1.26699798  1.35899494]\n",
            "  [ 1.35899494  2.2181314 ]]]\n",
            "-------------------------------------------------\n",
            "ITERATION [3]\n",
            "\n",
            "Log Likelihood:\n",
            "-33.40109226775247\n",
            "\n",
            "Responsibility:\n",
            "[[1.00000000e+00 9.57170670e-24]\n",
            " [1.00000000e+00 1.69558902e-15]\n",
            " [9.99999985e-01 1.48273708e-08]\n",
            " [1.00000000e+00 4.83902038e-14]\n",
            " [9.99999926e-01 7.39360320e-08]\n",
            " [9.99434749e-01 5.65251116e-04]\n",
            " [4.16049711e-03 9.95839503e-01]\n",
            " [2.28928065e-05 9.99977107e-01]\n",
            " [1.58736943e-05 9.99984126e-01]\n",
            " [2.12264675e-08 9.99999979e-01]]\n",
            "\n",
            "Updated Means:\n",
            "[[3.66748666 5.83004784]\n",
            " [6.75157185 3.25258665]]\n",
            "\n",
            "Updated Covariances:\n",
            "[[[ 0.55635503 -0.22649467]\n",
            "  [-0.22649467  1.82060969]]\n",
            "\n",
            " [[ 1.1858218   1.55938342]\n",
            "  [ 1.55938342  2.18464175]]]\n",
            "-------------------------------------------------\n"
          ]
        }
      ],
      "source": [
        "means = np.array([[4, 6], [6.5, 3]])\n",
        "covariance = np.array([[[0.675, 0.9], [0.9, 1.3]],\n",
        "                       [[0.675, 0.825], [0.825, 1.3]]])\n",
        "density = np.array([6/10, 4/10])\n",
        "iterations = 3\n",
        "\n",
        "for i in range(iterations):\n",
        "  resp, log_likelihood = e_step(X, means, covariance, density)\n",
        "  print(f'ITERATION [{i+1}]')\n",
        "  print('\\nLog Likelihood:')\n",
        "  print(log_likelihood)\n",
        "  print('\\nResponsibility:')\n",
        "  print(resp)\n",
        "\n",
        "  means, covariance, density = m_step(X, means, covariance, resp)\n",
        "  print('\\nUpdated Means:')\n",
        "  print(means)\n",
        "  print('\\nUpdated Covariances:')\n",
        "  print(covariance)\n",
        "  print('-------------------------------------------------')"
      ]
    },
    {
      "cell_type": "code",
      "source": [
        "labels = []\n",
        "\n",
        "for i in range(len(resp)):\n",
        "  if(resp[i][0] >= resp[i][1]):\n",
        "    labels.append(0)\n",
        "  else:\n",
        "    labels.append(1)\n",
        "\n",
        "labels"
      ],
      "metadata": {
        "colab": {
          "base_uri": "https://localhost:8080/"
        },
        "id": "di44IwLBbo4L",
        "outputId": "f9083639-8a67-4d66-9d56-cdb7a5c7011b"
      },
      "execution_count": 34,
      "outputs": [
        {
          "output_type": "execute_result",
          "data": {
            "text/plain": [
              "[0, 0, 0, 0, 0, 0, 1, 1, 1, 1]"
            ]
          },
          "metadata": {},
          "execution_count": 34
        }
      ]
    },
    {
      "cell_type": "code",
      "source": [
        "import matplotlib.pyplot as plt\n",
        "import seaborn as sns\n",
        "import pandas as pd\n",
        "\n",
        "df = pd.DataFrame({\n",
        "    'X1': X[:, 0],\n",
        "    'X2': X[:, 1],\n",
        "    'Class': labels\n",
        "})\n",
        "\n",
        "plt.grid()\n",
        "sns.scatterplot(x='X1', y='X2', hue='Class', data=df, s=100)\n",
        "plt.plot(means[0][0], means[0][1], marker='+', markersize=10, label='Mean1')\n",
        "plt.plot(means[1][0], means[1][1], marker='+', markersize=10, label='Mean2')\n",
        "plt.xlim(0, 10)\n",
        "plt.ylim(0, 10)\n",
        "plt.legend()\n",
        "plt.xticks(np.arange(0, 11))\n",
        "plt.yticks(np.arange(0, 11))\n",
        "plt.title(\"Possible Cluster Using GMM\")\n",
        "plt.show()"
      ],
      "metadata": {
        "colab": {
          "base_uri": "https://localhost:8080/",
          "height": 295
        },
        "id": "mE5l9GY-bBCT",
        "outputId": "e72b6454-37fb-4c77-f47e-548a12ff51eb"
      },
      "execution_count": 73,
      "outputs": [
        {
          "output_type": "display_data",
          "data": {
            "text/plain": [
              "<Figure size 432x288 with 1 Axes>"
            ],
            "image/png": "[encoded data removed]"
          },
          "metadata": {
            "needs_background": "light"
          }
        }
      ]
    }
  ]
}