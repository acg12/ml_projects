{
  "nbformat": 4,
  "nbformat_minor": 0,
  "metadata": {
    "colab": {
      "name": "ML_FORUM_GMM.ipynb",
      "provenance": [],
      "authorship_tag": "ABX9TyNzB5BPuH7zavmyLKyWSIjH"
    },
    "kernelspec": {
      "name": "python3",
      "display_name": "Python 3"
    },
    "language_info": {
      "name": "python"
    }
  },
  "cells": [
    {
      "cell_type": "code",
      "source": [
        "import numpy as np\n",
        "from scipy.stats import multivariate_normal"
      ],
      "metadata": {
        "id": "G4ociwYBR8cl"
      },
      "execution_count": 81,
      "outputs": []
    },
    {
      "cell_type": "code",
      "source": [
        "def e_step(X, means, covariance, density):\n",
        "  likelihood = np.zeros((10, 2))\n",
        "  resp = np.zeros((10, 2))\n",
        "\n",
        "  for i in range(2):\n",
        "    likelihood[:, i] = multivariate_normal.pdf(X, means[i], covariance[i], allow_singular=True)\n",
        "    resp[:, i] = density[i] * likelihood[:, i]\n",
        "  \n",
        "  log_likelihood = np.sum(np.log(np.sum(resp, axis=1)))\n",
        "  resp = resp / resp.sum(axis=1, keepdims=1)\n",
        "\n",
        "  return resp, log_likelihood"
      ],
      "metadata": {
        "id": "BHMGhBIhWIo3"
      },
      "execution_count": 16,
      "outputs": []
    },
    {
      "cell_type": "code",
      "source": [
        "def m_step(X, means, covariance, resp):\n",
        "  for i in range(2):\n",
        "    weight = resp[:, [i]]\n",
        "    total_weight = weight.sum()\n",
        "    means[i] = (X * weight).sum(axis=0) / total_weight\n",
        "    covariance[i] = np.cov(X.T, aweights=((weight/total_weight).flatten()), bias=True)\n",
        "  density = resp.mean(axis=0)\n",
        "  return means, covariance, density"
      ],
      "metadata": {
        "id": "xANgBhNfXnC6"
      },
      "execution_count": 28,
      "outputs": []
    },
    {
      "cell_type": "code",
      "source": [
        "X = [\n",
        "     [3, 8],\n",
        "     [3, 6],\n",
        "     [3, 4],\n",
        "     [4, 7],\n",
        "     [4, 5],\n",
        "     [5, 5],\n",
        "     [5, 1],\n",
        "     [7, 4],\n",
        "     [7, 3],\n",
        "     [8, 5]\n",
        "]\n",
        "X = np.array(X)"
      ],
      "metadata": {
        "id": "FR0eqPblWsY7"
      },
      "execution_count": 30,
      "outputs": []
    },
    {
      "cell_type": "code",
      "execution_count": 82,
      "metadata": {
        "colab": {
          "base_uri": "https://localhost:8080/"
        },
        "id": "LVizvqfWP2uN",
        "outputId": "270f5624-8205-4a75-ef14-8b7bb32dced7"
      },
      "outputs": [
        {
          "output_type": "stream",
          "name": "stdout",
          "text": [
            "ITERATION [1]\n",
            "\n",
            "Log Likelihood:\n",
            "-124.50464701054486\n",
            "\n",
            "Responsibility:\n",
            "[[1.00000000e+000 1.55255048e-044]\n",
            " [1.00000000e+000 3.76142085e-040]\n",
            " [1.00000000e+000 2.37355223e-024]\n",
            " [1.00000000e+000 7.35043033e-038]\n",
            " [1.00000000e+000 7.94098013e-020]\n",
            " [3.61098528e-001 6.38901472e-001]\n",
            " [3.58986004e-087 1.00000000e+000]\n",
            " [2.27593513e-081 1.00000000e+000]\n",
            " [1.96545938e-109 1.00000000e+000]\n",
            " [5.36516735e-092 1.00000000e+000]]\n",
            "\n",
            "Updated Means:\n",
            "[[3.50776852 5.93264468]\n",
            " [6.50897794 3.49102206]]\n",
            "\n",
            "Updated Covariances:\n",
            "[[[ 0.3846503  -0.10050973]\n",
            "  [-0.10050973  1.92810794]]\n",
            "\n",
            " [[ 1.38764629  0.98360477]\n",
            "  [ 0.98360477  2.2499194 ]]]\n",
            "-------------------------------------------------\n",
            "ITERATION [2]\n",
            "\n",
            "Log Likelihood:\n",
            "-35.37786637271427\n",
            "\n",
            "Responsibility:\n",
            "[[9.99999997e-01 3.18706700e-09]\n",
            " [9.99997303e-01 2.69664999e-06]\n",
            " [9.98580100e-01 1.41989962e-03]\n",
            " [9.99987181e-01 1.28188320e-05]\n",
            " [9.97396219e-01 2.60378108e-03]\n",
            " [6.62493660e-01 3.37506340e-01]\n",
            " [2.09940597e-03 9.97900594e-01]\n",
            " [2.16316237e-07 9.99999784e-01]\n",
            " [1.21004730e-07 9.99999879e-01]\n",
            " [1.88325233e-11 1.00000000e+00]]\n",
            "\n",
            "Updated Means:\n",
            "[[3.58767583 5.88206796]\n",
            " [6.61185042 3.3885054 ]]\n",
            "\n",
            "Updated Covariances:\n",
            "[[[ 0.47712921 -0.16801964]\n",
            "  [-0.16801964  1.87754721]]\n",
            "\n",
            " [[ 1.32140316  1.21547068]\n",
            "  [ 1.21547068  2.23501155]]]\n",
            "-------------------------------------------------\n",
            "ITERATION [3]\n",
            "\n",
            "Log Likelihood:\n",
            "-34.34455081647011\n",
            "\n",
            "Responsibility:\n",
            "[[1.00000000e+00 9.59019218e-15]\n",
            " [9.99999999e-01 8.68054017e-10]\n",
            " [9.99980260e-01 1.97404827e-05]\n",
            " [9.99999992e-01 7.67130176e-09]\n",
            " [9.99954488e-01 4.55119561e-05]\n",
            " [9.75133195e-01 2.48668053e-02]\n",
            " [4.09069904e-03 9.95909301e-01]\n",
            " [8.19510470e-06 9.99991805e-01]\n",
            " [5.33451614e-06 9.99994665e-01]\n",
            " [4.51808423e-09 9.99999995e-01]]\n",
            "\n",
            "Updated Means:\n",
            "[[3.66204088 5.83349968]\n",
            " [6.74090715 3.26313427]]\n",
            "\n",
            "Updated Covariances:\n",
            "[[[ 0.55131489 -0.22280228]\n",
            "  [-0.22280228  1.82493495]]\n",
            "\n",
            " [[ 1.19724484  1.53151114]\n",
            "  [ 1.53151114  2.18982205]]]\n",
            "-------------------------------------------------\n"
          ]
        }
      ],
      "source": [
        "means = np.array([[4, 6], [6.5, 3]])\n",
        "covariance = np.array([[[0.675, 0.9], [0.9, 1.3]],\n",
        "                       [[0.675, 0.825], [0.825, 1.3]]])\n",
        "density = np.array([5/10, 5/10])\n",
        "iterations = 3\n",
        "\n",
        "for i in range(iterations):\n",
        "  resp, log_likelihood = e_step(X, means, covariance, density)\n",
        "  print(f'ITERATION [{i+1}]')\n",
        "  print('\\nLog Likelihood:')\n",
        "  print(log_likelihood)\n",
        "  print('\\nResponsibility:')\n",
        "  print(resp)\n",
        "\n",
        "  means, covariance, density = m_step(X, means, covariance, resp)\n",
        "  print('\\nUpdated Means:')\n",
        "  print(means)\n",
        "  print('\\nUpdated Covariances:')\n",
        "  print(covariance)\n",
        "  print('-------------------------------------------------')"
      ]
    },
    {
      "cell_type": "code",
      "source": [
        "labels = []\n",
        "\n",
        "for i in range(len(resp)):\n",
        "  if(resp[i][0] >= resp[i][1]):\n",
        "    labels.append(0)\n",
        "  else:\n",
        "    labels.append(1)\n",
        "\n",
        "labels"
      ],
      "metadata": {
        "colab": {
          "base_uri": "https://localhost:8080/"
        },
        "id": "di44IwLBbo4L",
        "outputId": "ceba44a3-2990-4a8b-a21d-dbff78339c3a"
      },
      "execution_count": 83,
      "outputs": [
        {
          "output_type": "execute_result",
          "data": {
            "text/plain": [
              "[0, 0, 0, 0, 0, 0, 1, 1, 1, 1]"
            ]
          },
          "metadata": {},
          "execution_count": 83
        }
      ]
    },
    {
      "cell_type": "code",
      "source": [
        "import matplotlib.pyplot as plt\n",
        "import seaborn as sns\n",
        "import pandas as pd\n",
        "\n",
        "df = pd.DataFrame({\n",
        "    'X1': X[:, 0],\n",
        "    'X2': X[:, 1],\n",
        "    'Class': labels\n",
        "})\n",
        "\n",
        "plt.grid()\n",
        "sns.scatterplot(x='X1', y='X2', hue='Class', data=df, s=100)\n",
        "plt.plot(means[0][0], means[0][1], marker='+', markersize=10, label='Mean1')\n",
        "plt.plot(means[1][0], means[1][1], marker='+', markersize=10, label='Mean2')\n",
        "plt.xlim(0, 10)\n",
        "plt.ylim(0, 10)\n",
        "plt.legend()\n",
        "plt.xticks(np.arange(0, 11))\n",
        "plt.yticks(np.arange(0, 11))\n",
        "plt.title(\"Possible Cluster Using GMM\")\n",
        "plt.show()"
      ],
      "metadata": {
        "colab": {
          "base_uri": "https://localhost:8080/",
          "height": 295
        },
        "id": "mE5l9GY-bBCT",
        "outputId": "a57c31f9-6a9d-4a0f-9026-d9bd07f7dac2"
      },
      "execution_count": 84,
      "outputs": [
        {
          "output_type": "display_data",
          "data": {
            "text/plain": [
              "<Figure size 432x288 with 1 Axes>"
            ],
            "image/png": "[encoded data removed]"
          },
          "metadata": {
            "needs_background": "light"
          }
        }
      ]
    }
  ]
}