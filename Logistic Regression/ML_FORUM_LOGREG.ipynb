{
  "nbformat": 4,
  "nbformat_minor": 0,
  "metadata": {
    "colab": {
      "name": "ML_FORUM_LOGREG.ipynb",
      "provenance": [],
      "collapsed_sections": [],
      "authorship_tag": "ABX9TyOuU63Ew0QFZEaoo59GVqkS"
    },
    "kernelspec": {
      "name": "python3",
      "display_name": "Python 3"
    },
    "language_info": {
      "name": "python"
    }
  },
  "cells": [
    {
      "cell_type": "markdown",
      "source": [
        "# Logistic Regression with Gradient Descent"
      ],
      "metadata": {
        "id": "ZM1fslTv6QAa"
      }
    },
    {
      "cell_type": "markdown",
      "source": [
        "## Import data and libraries"
      ],
      "metadata": {
        "id": "B2lrYPDd6Vv8"
      }
    },
    {
      "cell_type": "code",
      "source": [
        "import numpy as np\n",
        "import matplotlib.pyplot as plt\n",
        "import seaborn as sns\n",
        "import pandas as pd"
      ],
      "metadata": {
        "id": "-2W-47m1yOyU"
      },
      "execution_count": 50,
      "outputs": []
    },
    {
      "cell_type": "code",
      "execution_count": 3,
      "metadata": {
        "id": "WshAQQTCxz-e"
      },
      "outputs": [],
      "source": [
        "X_train = np.array([[0.08, 0.72], [0.26, 0.58], [0.45, 0.15], [0.60, 0.30], [0.10, 1.0], [0.35, 0.95], [0.70, 0.65], [0.92, 0.45]])\n",
        "y_train = np.array([1, 1, 1, 1, 0, 0, 0, 0])\n",
        "X_test = np.array([[0.10, 0.9], [0.4, 0.2], [0.8, 0.5], [0.2, 0.6]])"
      ]
    },
    {
      "cell_type": "markdown",
      "source": [
        "## Visualize the data"
      ],
      "metadata": {
        "id": "NZ21BKJ86YI6"
      }
    },
    {
      "cell_type": "code",
      "source": [
        "plt.figure(figsize=(10, 6))\n",
        "\n",
        "sns.scatterplot(x=X_train[:, 0], y=X_train[:, 1], hue=y_train, s=50)\n",
        "\n",
        "plt.xlabel(\"First variable X_train[0]\")\n",
        "plt.ylabel(\"Second variable X_train[1]\")\n",
        "plt.title(\"Visualize data\", fontsize=20)\n",
        "plt.show()"
      ],
      "metadata": {
        "colab": {
          "base_uri": "https://localhost:8080/",
          "height": 410
        },
        "id": "SBMiJztlzWet",
        "outputId": "a0d4484b-1f14-4547-e9a2-2dace72fe330"
      },
      "execution_count": 4,
      "outputs": [
        {
          "output_type": "display_data",
          "data": {
            "text/plain": [
              "<Figure size 720x432 with 1 Axes>"
            ],
            "image/png": "[encoded data removed]"
          },
          "metadata": {
            "needs_background": "light"
          }
        }
      ]
    },
    {
      "cell_type": "markdown",
      "source": [
        "## Gradient Descent"
      ],
      "metadata": {
        "id": "FFH86Ucc7TGX"
      }
    },
    {
      "cell_type": "markdown",
      "source": [
        "Sebelum kita training, kita lakukan standardisasi terhadap data training."
      ],
      "metadata": {
        "id": "1OudwFMl7ZH8"
      }
    },
    {
      "cell_type": "code",
      "source": [
        "class gradient_descent:\n",
        "  def __init__(self, nvar):\n",
        "    self.intercept = 0\n",
        "    self.theta = np.random.randn(nvar)\n",
        "\n",
        "  def sigmoid(self, y):\n",
        "    return 1/(1 + np.exp((-1)*y))\n",
        "\n",
        "  def predict(self, X, theta, intercept):\n",
        "    y_raw = np.array(intercept + np.dot(X, theta))\n",
        "    y_pred = self.sigmoid(y_raw)\n",
        "    return y_pred\n",
        "\n",
        "  def update_theta(self, X, y, y_pred, alpha):\n",
        "    deriv_theta = np.dot((y_pred - y), X)\n",
        "    return self.theta - (alpha * deriv_theta)\n",
        "\n",
        "  def update_intercept(self, y, y_pred, alpha):\n",
        "    deriv_intercept = np.sum(y_pred - y)\n",
        "    return self.intercept - (alpha * deriv_intercept)\n",
        "\n",
        "  def cross_entropy(self, y, y_pred):\n",
        "    ce = np.dot((-1 * y), np.log(y_pred)) - np.dot((1 - y), np.log(1 - y_pred))\n",
        "    return ce\n",
        "\n",
        "  def fit(self, X, y, epochs, alpha):\n",
        "    loss = []\n",
        "  \n",
        "    for i in range(epochs):\n",
        "      y_pred = self.predict(X, self.theta, self.intercept)\n",
        "      self.theta = self.update_theta(X, y, y_pred, alpha)\n",
        "      self.intercept = self.update_intercept(y, y_pred, alpha)\n",
        "      loss.append(self.cross_entropy(y, y_pred))\n",
        "      # if i % 100 == 0:\n",
        "      #   print(f'[{i}] Loss: {loss[i]}')\n",
        "\n",
        "    return loss"
      ],
      "metadata": {
        "id": "ICSzkRj17cTK"
      },
      "execution_count": 192,
      "outputs": []
    },
    {
      "cell_type": "code",
      "source": [
        "all_loss = []\n",
        "\n",
        "for alpha in [0.1, 0.5, 0.9]:\n",
        "  model = gradient_descent(X_train.shape[1])\n",
        "  epochs = 80000\n",
        "  loss = model.fit(X_train, y_train, epochs, alpha)\n",
        "  print(f'{alpha}')\n",
        "  print(f'Intercept: {model.intercept}')\n",
        "  print(f'Theta: {model.theta}')\n",
        "\n",
        "  all_loss.append([alpha, loss])"
      ],
      "metadata": {
        "colab": {
          "base_uri": "https://localhost:8080/"
        },
        "id": "fZyEaO1BHpro",
        "outputId": "c71cf75e-2275-4e07-be42-948ab17f561d"
      },
      "execution_count": 193,
      "outputs": [
        {
          "output_type": "stream",
          "name": "stdout",
          "text": [
            "0.1\n",
            "Intercept: 35.117762705836064\n",
            "Theta: [-26.90395135 -37.94146002]\n",
            "0.5\n",
            "Intercept: 44.52155025695489\n",
            "Theta: [-33.92911226 -48.16538143]\n",
            "0.9\n",
            "Intercept: 48.00129595608332\n",
            "Theta: [-36.52217412 -51.94934921]\n"
          ]
        }
      ]
    },
    {
      "cell_type": "code",
      "source": [
        "# View semua proses penurunan loss untuk alpha yang berbeda\n",
        "plt.figure(figsize=(10, 6))\n",
        "for i in range(len(all_loss)):\n",
        "  plt.plot(np.arange(1, epochs), all_loss[i][1][1:], label=all_loss[i][0])\n",
        "\n",
        "plt.title('Epochs vs Loss', fontsize=16)\n",
        "plt.xlabel(\"Epochs\")\n",
        "plt.ylabel(\"Loss\")\n",
        "plt.legend()\n",
        "plt.show()\n",
        "\n",
        "# Zoomed in\n",
        "plt.figure(figsize=(10, 6))\n",
        "for i in range(len(all_loss)):\n",
        "  plt.plot(np.arange(1, epochs), all_loss[i][1][1:], label=all_loss[i][0])\n",
        "\n",
        "plt.title('Epochs vs Loss (Zoomed in)', fontsize=16)\n",
        "plt.ylim([0, 0.1])\n",
        "plt.xlabel(\"Epochs\")\n",
        "plt.ylabel(\"Loss\")\n",
        "plt.legend()\n",
        "plt.show()"
      ],
      "metadata": {
        "colab": {
          "base_uri": "https://localhost:8080/",
          "height": 795
        },
        "id": "kRNW8CwcHyh0",
        "outputId": "2bb2a76a-cd83-4214-9d82-ea1c92225f4b"
      },
      "execution_count": 194,
      "outputs": [
        {
          "output_type": "display_data",
          "data": {
            "text/plain": [
              "<Figure size 720x432 with 1 Axes>"
            ],
            "image/png": "[encoded data removed]"
          },
          "metadata": {
            "needs_background": "light"
          }
        },
        {
          "output_type": "display_data",
          "data": {
            "text/plain": [
              "<Figure size 720x432 with 1 Axes>"
            ],
            "image/png": "[encoded data removed]"
          },
          "metadata": {
            "needs_background": "light"
          }
        }
      ]
    },
    {
      "cell_type": "markdown",
      "source": [
        "Kita bisa melihat dari chart di atas bahwa alpha atau learning rate 0.9 menghasilkan loss atau cross entropy cost yang paling mendekati 0."
      ],
      "metadata": {
        "id": "gwjC8EXngsn2"
      }
    },
    {
      "cell_type": "markdown",
      "source": [
        "## Build Final Model"
      ],
      "metadata": {
        "id": "SfiSoW4wfAI8"
      }
    },
    {
      "cell_type": "code",
      "source": [
        "# Kita bangun model baru dengan epoch 8000 dan learning rate 0.9\n",
        "model = gradient_descent(X_train.shape[1])\n",
        "epochs = 80000\n",
        "_ = model.fit(X_train, y_train, epochs, 0.9)"
      ],
      "metadata": {
        "id": "ZcmVeHwdNPL8"
      },
      "execution_count": 203,
      "outputs": []
    },
    {
      "cell_type": "code",
      "source": [
        "b = model.intercept\n",
        "b"
      ],
      "metadata": {
        "colab": {
          "base_uri": "https://localhost:8080/"
        },
        "id": "YUVlr42FNTp0",
        "outputId": "aa846505-040c-4a8c-b769-8b3b7558fe9e"
      },
      "execution_count": 196,
      "outputs": [
        {
          "output_type": "execute_result",
          "data": {
            "text/plain": [
              "48.001218515874434"
            ]
          },
          "metadata": {},
          "execution_count": 196
        }
      ]
    },
    {
      "cell_type": "code",
      "source": [
        "w = model.theta\n",
        "w"
      ],
      "metadata": {
        "colab": {
          "base_uri": "https://localhost:8080/"
        },
        "id": "5BG9cCGgNUxT",
        "outputId": "5756aa9e-b3f7-457a-ae9f-45d5a2c914cf"
      },
      "execution_count": 197,
      "outputs": [
        {
          "output_type": "execute_result",
          "data": {
            "text/plain": [
              "array([-36.52211645, -51.949265  ])"
            ]
          },
          "metadata": {},
          "execution_count": 197
        }
      ]
    },
    {
      "cell_type": "markdown",
      "source": [
        "## Predict and Evaluate"
      ],
      "metadata": {
        "id": "SHSJDFzLfCc5"
      }
    },
    {
      "cell_type": "markdown",
      "source": [
        "Setelah kita predict x dengan h(x) (disini saya memakai function predict()), dan setelah kita masukkan ke dalam rumus sigmoid g(h(x)), hasilnya akan terbatas antara [0,1]. Dari situ, kita bisa menggunakan threshold 0.5 untuk mengkonversi hasil dari fungsi sigmoid yang berupa probability menjadi kategori 0 dan 1."
      ],
      "metadata": {
        "id": "RLFn9allfxgd"
      }
    },
    {
      "cell_type": "code",
      "source": [
        "def threshold(y):\n",
        "  return [1 if i >= 0.5 else 0 for i in y]"
      ],
      "metadata": {
        "id": "8ISlwDA9fDx1"
      },
      "execution_count": 204,
      "outputs": []
    },
    {
      "cell_type": "code",
      "source": [
        "def cross_entropy(y, y_pred):\n",
        "    ce = np.dot((-1 * y), np.log(y_pred)) - np.dot((1 - y), np.log(1 - y_pred))\n",
        "    return ce"
      ],
      "metadata": {
        "id": "plEjGQmahU4V"
      },
      "execution_count": 208,
      "outputs": []
    },
    {
      "cell_type": "markdown",
      "source": [
        "### On Train Data"
      ],
      "metadata": {
        "id": "et90ZaP6hK8p"
      }
    },
    {
      "cell_type": "code",
      "source": [
        "y_pred_raw = model.predict(X_train, w, b)\n",
        "y_pred = threshold(y_pred_raw)\n",
        "pd.DataFrame({\n",
        "    'y_true': y_train,\n",
        "    'y_pred': y_pred,\n",
        "    'y_raw': y_pred_raw\n",
        "})"
      ],
      "metadata": {
        "colab": {
          "base_uri": "https://localhost:8080/",
          "height": 300
        },
        "id": "gbuFDShzNWCt",
        "outputId": "09ff5ef1-1541-4615-dbd9-16a3751354b2"
      },
      "execution_count": 210,
      "outputs": [
        {
          "output_type": "execute_result",
          "data": {
            "text/plain": [
              "   y_true  y_pred         y_raw\n",
              "0       1       1  9.995364e-01\n",
              "1       1       1  9.997695e-01\n",
              "2       1       1  1.000000e+00\n",
              "3       1       1  9.999726e-01\n",
              "4       0       0  5.000721e-04\n",
              "5       0       0  7.277380e-07\n",
              "6       0       0  1.199168e-05\n",
              "7       0       0  1.263539e-04"
            ],
            "text/html": [
              "\n",
              "  <div id=\"df-750129fb-f42a-4198-930c-6e7e93613185\">\n",
              "    <div class=\"colab-df-container\">\n",
              "      <div>\n",
              "<style scoped>\n",
              "    .dataframe tbody tr th:only-of-type {\n",
              "        vertical-align: middle;\n",
              "    }\n",
              "\n",
              "    .dataframe tbody tr th {\n",
              "        vertical-align: top;\n",
              "    }\n",
              "\n",
              "    .dataframe thead th {\n",
              "        text-align: right;\n",
              "    }\n",
              "</style>\n",
              "<table border=\"1\" class=\"dataframe\">\n",
              "  <thead>\n",
              "    <tr style=\"text-align: right;\">\n",
              "      <th></th>\n",
              "      <th>y_true</th>\n",
              "      <th>y_pred</th>\n",
              "      <th>y_raw</th>\n",
              "    </tr>\n",
              "  </thead>\n",
              "  <tbody>\n",
              "    <tr>\n",
              "      <th>0</th>\n",
              "      <td>1</td>\n",
              "      <td>1</td>\n",
              "      <td>9.995364e-01</td>\n",
              "    </tr>\n",
              "    <tr>\n",
              "      <th>1</th>\n",
              "      <td>1</td>\n",
              "      <td>1</td>\n",
              "      <td>9.997695e-01</td>\n",
              "    </tr>\n",
              "    <tr>\n",
              "      <th>2</th>\n",
              "      <td>1</td>\n",
              "      <td>1</td>\n",
              "      <td>1.000000e+00</td>\n",
              "    </tr>\n",
              "    <tr>\n",
              "      <th>3</th>\n",
              "      <td>1</td>\n",
              "      <td>1</td>\n",
              "      <td>9.999726e-01</td>\n",
              "    </tr>\n",
              "    <tr>\n",
              "      <th>4</th>\n",
              "      <td>0</td>\n",
              "      <td>0</td>\n",
              "      <td>5.000721e-04</td>\n",
              "    </tr>\n",
              "    <tr>\n",
              "      <th>5</th>\n",
              "      <td>0</td>\n",
              "      <td>0</td>\n",
              "      <td>7.277380e-07</td>\n",
              "    </tr>\n",
              "    <tr>\n",
              "      <th>6</th>\n",
              "      <td>0</td>\n",
              "      <td>0</td>\n",
              "      <td>1.199168e-05</td>\n",
              "    </tr>\n",
              "    <tr>\n",
              "      <th>7</th>\n",
              "      <td>0</td>\n",
              "      <td>0</td>\n",
              "      <td>1.263539e-04</td>\n",
              "    </tr>\n",
              "  </tbody>\n",
              "</table>\n",
              "</div>\n",
              "      <button class=\"colab-df-convert\" onclick=\"convertToInteractive('df-750129fb-f42a-4198-930c-6e7e93613185')\"\n",
              "              title=\"Convert this dataframe to an interactive table.\"\n",
              "              style=\"display:none;\">\n",
              "        \n",
              "  <svg xmlns=\"http://www.w3.org/2000/svg\" height=\"24px\"viewBox=\"0 0 24 24\"\n",
              "       width=\"24px\">\n",
              "    <path d=\"M0 0h24v24H0V0z\" fill=\"none\"/>\n",
              "    <path d=\"M18.56 5.44l.94 2.06.94-2.06 2.06-.94-2.06-.94-.94-2.06-.94 2.06-2.06.94zm-11 1L8.5 8.5l.94-2.06 2.06-.94-2.06-.94L8.5 2.5l-.94 2.06-2.06.94zm10 10l.94 2.06.94-2.06 2.06-.94-2.06-.94-.94-2.06-.94 2.06-2.06.94z\"/><path d=\"M17.41 7.96l-1.37-1.37c-.4-.4-.92-.59-1.43-.59-.52 0-1.04.2-1.43.59L10.3 9.45l-7.72 7.72c-.78.78-.78 2.05 0 2.83L4 21.41c.39.39.9.59 1.41.59.51 0 1.02-.2 1.41-.59l7.78-7.78 2.81-2.81c.8-.78.8-2.07 0-2.86zM5.41 20L4 18.59l7.72-7.72 1.47 1.35L5.41 20z\"/>\n",
              "  </svg>\n",
              "      </button>\n",
              "      \n",
              "  <style>\n",
              "    .colab-df-container {\n",
              "      display:flex;\n",
              "      flex-wrap:wrap;\n",
              "      gap: 12px;\n",
              "    }\n",
              "\n",
              "    .colab-df-convert {\n",
              "      background-color: #E8F0FE;\n",
              "      border: none;\n",
              "      border-radius: 50%;\n",
              "      cursor: pointer;\n",
              "      display: none;\n",
              "      fill: #1967D2;\n",
              "      height: 32px;\n",
              "      padding: 0 0 0 0;\n",
              "      width: 32px;\n",
              "    }\n",
              "\n",
              "    .colab-df-convert:hover {\n",
              "      background-color: #E2EBFA;\n",
              "      box-shadow: 0px 1px 2px rgba(60, 64, 67, 0.3), 0px 1px 3px 1px rgba(60, 64, 67, 0.15);\n",
              "      fill: #174EA6;\n",
              "    }\n",
              "\n",
              "    [theme=dark] .colab-df-convert {\n",
              "      background-color: #3B4455;\n",
              "      fill: #D2E3FC;\n",
              "    }\n",
              "\n",
              "    [theme=dark] .colab-df-convert:hover {\n",
              "      background-color: #434B5C;\n",
              "      box-shadow: 0px 1px 3px 1px rgba(0, 0, 0, 0.15);\n",
              "      filter: drop-shadow(0px 1px 2px rgba(0, 0, 0, 0.3));\n",
              "      fill: #FFFFFF;\n",
              "    }\n",
              "  </style>\n",
              "\n",
              "      <script>\n",
              "        const buttonEl =\n",
              "          document.querySelector('#df-750129fb-f42a-4198-930c-6e7e93613185 button.colab-df-convert');\n",
              "        buttonEl.style.display =\n",
              "          google.colab.kernel.accessAllowed ? 'block' : 'none';\n",
              "\n",
              "        async function convertToInteractive(key) {\n",
              "          const element = document.querySelector('#df-750129fb-f42a-4198-930c-6e7e93613185');\n",
              "          const dataTable =\n",
              "            await google.colab.kernel.invokeFunction('convertToInteractive',\n",
              "                                                     [key], {});\n",
              "          if (!dataTable) return;\n",
              "\n",
              "          const docLinkHtml = 'Like what you see? Visit the ' +\n",
              "            '<a target=\"_blank\" href=https://colab.research.google.com/notebooks/data_table.ipynb>data table notebook</a>'\n",
              "            + ' to learn more about interactive tables.';\n",
              "          element.innerHTML = '';\n",
              "          dataTable['output_type'] = 'display_data';\n",
              "          await google.colab.output.renderOutput(dataTable, element);\n",
              "          const docLink = document.createElement('div');\n",
              "          docLink.innerHTML = docLinkHtml;\n",
              "          element.appendChild(docLink);\n",
              "        }\n",
              "      </script>\n",
              "    </div>\n",
              "  </div>\n",
              "  "
            ]
          },
          "metadata": {},
          "execution_count": 210
        }
      ]
    },
    {
      "cell_type": "code",
      "source": [
        "cost = cross_entropy(y_train, y_pred_raw)\n",
        "print(f'Cost untuk train data: {cost}')"
      ],
      "metadata": {
        "colab": {
          "base_uri": "https://localhost:8080/"
        },
        "id": "rx88A5KOhYVq",
        "outputId": "85806bef-ec54-4d3e-8181-16d4233e04fc"
      },
      "execution_count": 211,
      "outputs": [
        {
          "output_type": "stream",
          "name": "stdout",
          "text": [
            "Cost untuk train data: 0.0013610140525389996\n"
          ]
        }
      ]
    },
    {
      "cell_type": "code",
      "source": [
        "plt.figure(figsize=(10, 6))\n",
        "\n",
        "y_grs = (-1 * b / w[1]) + ((-1 * w[0]/w[1]) * X_train[:, 0])\n",
        "\n",
        "sns.lineplot(x=X_train[:, 0], y=y_grs, label='Boundary decision line', color='black')\n",
        "sns.scatterplot(x=X_train[:, 0], y=X_train[:, 1], hue=y_train, s=80)\n",
        "\n",
        "plt.xlabel(\"First variable X_train[0]\")\n",
        "plt.ylabel(\"Second variable X_train[1]\")\n",
        "plt.title(\"Boundary Decision Line (Train)\", fontsize=20)\n",
        "plt.show()"
      ],
      "metadata": {
        "colab": {
          "base_uri": "https://localhost:8080/",
          "height": 410
        },
        "id": "hPG3u4EseH5T",
        "outputId": "13dddb7f-0ddb-4e64-9056-49fc88a09f1a"
      },
      "execution_count": 219,
      "outputs": [
        {
          "output_type": "display_data",
          "data": {
            "text/plain": [
              "<Figure size 720x432 with 1 Axes>"
            ],
            "image/png": "[encoded data removed]"
          },
          "metadata": {
            "needs_background": "light"
          }
        }
      ]
    },
    {
      "cell_type": "markdown",
      "source": [
        "Boundary decision line kita untuk train data cukup bagus, kita hanya mendapatkan cost sebesar 0.1%."
      ],
      "metadata": {
        "id": "C5tDMQnfhtIy"
      }
    },
    {
      "cell_type": "markdown",
      "source": [
        "### On Test Data"
      ],
      "metadata": {
        "id": "LpKvbwAvhvDE"
      }
    },
    {
      "cell_type": "code",
      "source": [
        "y_test_raw = model.predict(X_test, w, b)\n",
        "y_test_pred = threshold(y_test_raw)\n",
        "pd.DataFrame({\n",
        "    'y_pred': y_test_pred,\n",
        "    'y_raw': y_test_raw\n",
        "})"
      ],
      "metadata": {
        "colab": {
          "base_uri": "https://localhost:8080/",
          "height": 175
        },
        "id": "O4KJTs20UWq3",
        "outputId": "9305405c-24fb-4c97-d9a2-92977ea9f21c"
      },
      "execution_count": 201,
      "outputs": [
        {
          "output_type": "execute_result",
          "data": {
            "text/plain": [
              "   y_pred     y_raw\n",
              "0       0  0.082767\n",
              "1       1  1.000000\n",
              "2       0  0.000753\n",
              "3       1  0.999927"
            ],
            "text/html": [
              "\n",
              "  <div id=\"df-71f4f51c-f57d-4cfe-be0b-31ebccc409e6\">\n",
              "    <div class=\"colab-df-container\">\n",
              "      <div>\n",
              "<style scoped>\n",
              "    .dataframe tbody tr th:only-of-type {\n",
              "        vertical-align: middle;\n",
              "    }\n",
              "\n",
              "    .dataframe tbody tr th {\n",
              "        vertical-align: top;\n",
              "    }\n",
              "\n",
              "    .dataframe thead th {\n",
              "        text-align: right;\n",
              "    }\n",
              "</style>\n",
              "<table border=\"1\" class=\"dataframe\">\n",
              "  <thead>\n",
              "    <tr style=\"text-align: right;\">\n",
              "      <th></th>\n",
              "      <th>y_pred</th>\n",
              "      <th>y_raw</th>\n",
              "    </tr>\n",
              "  </thead>\n",
              "  <tbody>\n",
              "    <tr>\n",
              "      <th>0</th>\n",
              "      <td>0</td>\n",
              "      <td>0.082767</td>\n",
              "    </tr>\n",
              "    <tr>\n",
              "      <th>1</th>\n",
              "      <td>1</td>\n",
              "      <td>1.000000</td>\n",
              "    </tr>\n",
              "    <tr>\n",
              "      <th>2</th>\n",
              "      <td>0</td>\n",
              "      <td>0.000753</td>\n",
              "    </tr>\n",
              "    <tr>\n",
              "      <th>3</th>\n",
              "      <td>1</td>\n",
              "      <td>0.999927</td>\n",
              "    </tr>\n",
              "  </tbody>\n",
              "</table>\n",
              "</div>\n",
              "      <button class=\"colab-df-convert\" onclick=\"convertToInteractive('df-71f4f51c-f57d-4cfe-be0b-31ebccc409e6')\"\n",
              "              title=\"Convert this dataframe to an interactive table.\"\n",
              "              style=\"display:none;\">\n",
              "        \n",
              "  <svg xmlns=\"http://www.w3.org/2000/svg\" height=\"24px\"viewBox=\"0 0 24 24\"\n",
              "       width=\"24px\">\n",
              "    <path d=\"M0 0h24v24H0V0z\" fill=\"none\"/>\n",
              "    <path d=\"M18.56 5.44l.94 2.06.94-2.06 2.06-.94-2.06-.94-.94-2.06-.94 2.06-2.06.94zm-11 1L8.5 8.5l.94-2.06 2.06-.94-2.06-.94L8.5 2.5l-.94 2.06-2.06.94zm10 10l.94 2.06.94-2.06 2.06-.94-2.06-.94-.94-2.06-.94 2.06-2.06.94z\"/><path d=\"M17.41 7.96l-1.37-1.37c-.4-.4-.92-.59-1.43-.59-.52 0-1.04.2-1.43.59L10.3 9.45l-7.72 7.72c-.78.78-.78 2.05 0 2.83L4 21.41c.39.39.9.59 1.41.59.51 0 1.02-.2 1.41-.59l7.78-7.78 2.81-2.81c.8-.78.8-2.07 0-2.86zM5.41 20L4 18.59l7.72-7.72 1.47 1.35L5.41 20z\"/>\n",
              "  </svg>\n",
              "      </button>\n",
              "      \n",
              "  <style>\n",
              "    .colab-df-container {\n",
              "      display:flex;\n",
              "      flex-wrap:wrap;\n",
              "      gap: 12px;\n",
              "    }\n",
              "\n",
              "    .colab-df-convert {\n",
              "      background-color: #E8F0FE;\n",
              "      border: none;\n",
              "      border-radius: 50%;\n",
              "      cursor: pointer;\n",
              "      display: none;\n",
              "      fill: #1967D2;\n",
              "      height: 32px;\n",
              "      padding: 0 0 0 0;\n",
              "      width: 32px;\n",
              "    }\n",
              "\n",
              "    .colab-df-convert:hover {\n",
              "      background-color: #E2EBFA;\n",
              "      box-shadow: 0px 1px 2px rgba(60, 64, 67, 0.3), 0px 1px 3px 1px rgba(60, 64, 67, 0.15);\n",
              "      fill: #174EA6;\n",
              "    }\n",
              "\n",
              "    [theme=dark] .colab-df-convert {\n",
              "      background-color: #3B4455;\n",
              "      fill: #D2E3FC;\n",
              "    }\n",
              "\n",
              "    [theme=dark] .colab-df-convert:hover {\n",
              "      background-color: #434B5C;\n",
              "      box-shadow: 0px 1px 3px 1px rgba(0, 0, 0, 0.15);\n",
              "      filter: drop-shadow(0px 1px 2px rgba(0, 0, 0, 0.3));\n",
              "      fill: #FFFFFF;\n",
              "    }\n",
              "  </style>\n",
              "\n",
              "      <script>\n",
              "        const buttonEl =\n",
              "          document.querySelector('#df-71f4f51c-f57d-4cfe-be0b-31ebccc409e6 button.colab-df-convert');\n",
              "        buttonEl.style.display =\n",
              "          google.colab.kernel.accessAllowed ? 'block' : 'none';\n",
              "\n",
              "        async function convertToInteractive(key) {\n",
              "          const element = document.querySelector('#df-71f4f51c-f57d-4cfe-be0b-31ebccc409e6');\n",
              "          const dataTable =\n",
              "            await google.colab.kernel.invokeFunction('convertToInteractive',\n",
              "                                                     [key], {});\n",
              "          if (!dataTable) return;\n",
              "\n",
              "          const docLinkHtml = 'Like what you see? Visit the ' +\n",
              "            '<a target=\"_blank\" href=https://colab.research.google.com/notebooks/data_table.ipynb>data table notebook</a>'\n",
              "            + ' to learn more about interactive tables.';\n",
              "          element.innerHTML = '';\n",
              "          dataTable['output_type'] = 'display_data';\n",
              "          await google.colab.output.renderOutput(dataTable, element);\n",
              "          const docLink = document.createElement('div');\n",
              "          docLink.innerHTML = docLinkHtml;\n",
              "          element.appendChild(docLink);\n",
              "        }\n",
              "      </script>\n",
              "    </div>\n",
              "  </div>\n",
              "  "
            ]
          },
          "metadata": {},
          "execution_count": 201
        }
      ]
    },
    {
      "cell_type": "code",
      "source": [
        "plt.figure(figsize=(10, 6))\n",
        "\n",
        "y_grs = (-1 * b / w[1]) + ((-1 * w[0]/w[1]) * X_test[:, 0])\n",
        "\n",
        "sns.lineplot(x=X_test[:, 0], y=y_grs, label='Boundary decision line', color='black')\n",
        "sns.scatterplot(x=X_test[:, 0], y=X_test[:, 1], hue=y_test_pred, s=80)\n",
        "\n",
        "plt.xlabel(\"First variable X_test[0]\")\n",
        "plt.ylabel(\"Second variable X_test[1]\")\n",
        "plt.title(\"Boundary Decision Line (Test)\", fontsize=20)\n",
        "plt.show()"
      ],
      "metadata": {
        "colab": {
          "base_uri": "https://localhost:8080/",
          "height": 410
        },
        "id": "SKPvECdEU78D",
        "outputId": "f54041a7-e34c-4945-de56-3f3f20d9592d"
      },
      "execution_count": 218,
      "outputs": [
        {
          "output_type": "display_data",
          "data": {
            "text/plain": [
              "<Figure size 720x432 with 1 Axes>"
            ],
            "image/png": "[encoded data removed]"
          },
          "metadata": {
            "needs_background": "light"
          }
        }
      ]
    },
    {
      "cell_type": "markdown",
      "source": [
        "Demikianlah boundary decision line yang didapatkan model menggunakan gradient descent untuk test data."
      ],
      "metadata": {
        "id": "iq1IydugiW72"
      }
    }
  ]
}